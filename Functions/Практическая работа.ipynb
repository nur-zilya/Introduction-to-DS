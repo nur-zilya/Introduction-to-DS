{
 "nbformat": 4,
 "nbformat_minor": 0,
 "metadata": {
  "colab": {
   "name": "9.8_Домашнее_задание.ipynb",
   "provenance": [],
   "collapsed_sections": []
  },
  "kernelspec": {
   "name": "python3",
   "language": "python",
   "display_name": "Python 3 (ipykernel)"
  },
  "language_info": {
   "name": "python"
  }
 },
 "cells": [
  {
   "cell_type": "markdown",
   "metadata": {
    "id": "I3cIqq1_avyx"
   },
   "source": [
    "# Функции. Домашнее задание\n",
    "\n",
    "В домашнем задании есть обязательные и дополнительные задачи.\n",
    "\n",
    "*Обязательные задачи* нужно сделать, чтобы проверить, что вы действительно усвоили материал модуля. Они обязательны к загрузке на проверку преподавателю.\n",
    "\n",
    "*Дополнительные задачи* для тех, кто чувствует, что нужно ещё немного потренироваться и порешать задачки по программированию. Вы также можете загрузить их на проверку преподавателю и получить по ним обратную связь.\n",
    "\n",
    "Удачи!\n"
   ]
  },
  {
   "cell_type": "markdown",
   "metadata": {
    "id": "TaxnMjUDcPku"
   },
   "source": [
    "---"
   ]
  },
  {
   "cell_type": "markdown",
   "metadata": {
    "id": "mF7WQFldayeZ"
   },
   "source": [
    "**Цели домашнего задания:**\n",
    "1. Научиться декомпозировать код с помощью функций.\n",
    "2. Попрактиковаться в использовании встроенных функций и методов.\n",
    "3. Проверить понимание и умение работать с рекурсивными функциями.\n",
    "4. Отработать обработку текстовых данных.\n",
    "\n"
   ]
  },
  {
   "cell_type": "markdown",
   "metadata": {
    "id": "qrO7Cn2EeUP9"
   },
   "source": [
    "**Что входит в домашнее задание:**\n",
    "1. *Обязательные задачи*:\n",
    "- Конвертация валют.\n",
    "- Обработка анкет.\n",
    "- Факториал.\n",
    "- Палиндром\n",
    "\n",
    "2. *Дополнительные задачи*:\n",
    "- Количество цифр в числе.\n",
    "- Количество отличников и двоечников.\n",
    "- Калькулятор.\n",
    "\n"
   ]
  },
  {
   "cell_type": "markdown",
   "metadata": {
    "id": "JyaO4C1veWzM"
   },
   "source": [
    "**Критерии оценки:**\n",
    "- программа выдаёт верный ответ на разных наборах входных данных;\n",
    "- код читабелен: переменным даны осмысленные названия, отступы и правила расстановки пробелов соблюдены;\n",
    "- код соответствует принципу DRY и декомпозирован с помощью функций.\n",
    "\n",
    "\n",
    "**Как отправить задание на проверку**\n",
    "\n",
    "Выполните задачи, сохраните изменения при помощи опции Save and Checkpoint из вкладки меню File или кнопки Save and Checkpoint на панели инструментов. Отправьте через форму на платформе итоговый файл Jupyter Notebook (в формате .ipynb) или ссылку на него."
   ]
  },
  {
   "cell_type": "markdown",
   "metadata": {
    "id": "qSDMGVxpbOMM"
   },
   "source": [
    "\n",
    "\n",
    "---\n",
    "\n",
    "\n",
    "\n",
    "---\n",
    "\n"
   ]
  },
  {
   "cell_type": "markdown",
   "metadata": {
    "id": "6m31Ptr8tFdp"
   },
   "source": [
    "**Обязательные задачи**"
   ]
  },
  {
   "cell_type": "markdown",
   "metadata": {
    "id": "1nI8YsZQ8xvq"
   },
   "source": [
    "*Задача 1. Конвертация валют*\n",
    "\n",
    "Напишите функцию `rub_to_currency`, которая переводит деньги в рублях в одну из двух валют: USD или CNY. У функции должно быть два входных параметра:\n",
    "1. `rub_amount` — деньги в рублях;\n",
    "2.  `currency` — валюта, в которую нужно совершить перевод. Если второй параметр не указан, по умолчанию следует считать его равным USD.\n",
    "\n",
    "На выходе функция должна вывести на экран, сколько рублей было дано в начале и сколько денег получилось в заданной валюте. В случае с китайским юанем также нужно вывести промежуточное значение в долларах. Если на вход в `currency` приходит невалидное значение, нужно вывести на экран сообщение: «Расчёт не может быть совершён».\n",
    "\n",
    "Декомпозируйте данную задачу на несколько функций.\n",
    "\n",
    "Проверьте, что функция `rub_to_currency` в последующих ячейках отработала верно."
   ]
  },
  {
   "cell_type": "code",
   "metadata": {
    "id": "u1pxlf7BDNa4",
    "ExecuteTime": {
     "end_time": "2024-07-02T12:54:58.333731Z",
     "start_time": "2024-07-02T12:54:58.293244Z"
    }
   },
   "source": [
    "# Создайте вспомогательные функции для перевода в доллар и китайский юань\n",
    "# Считайте курс доллара к рублю следующим: 1USD = 70,99RUB, курс доллара к юаню: 1USD = 6,44CNY\n"
   ],
   "execution_count": 15,
   "outputs": []
  },
  {
   "cell_type": "code",
   "execution_count": 23,
   "outputs": [],
   "source": [
    "def check_currency(currency):\n",
    "    if currency is None:\n",
    "        currency = \"USD\"\n",
    "    if currency not in ['USD', 'CNY']:\n",
    "        print(\"Расчёт не может быть совершён\")"
   ],
   "metadata": {
    "collapsed": false,
    "ExecuteTime": {
     "end_time": "2024-07-02T13:02:07.386207Z",
     "start_time": "2024-07-02T13:02:07.359194Z"
    }
   }
  },
  {
   "cell_type": "code",
   "metadata": {
    "id": "HBAVvL_-qSCC",
    "ExecuteTime": {
     "end_time": "2024-07-02T13:03:07.097262Z",
     "start_time": "2024-07-02T13:03:07.079590Z"
    }
   },
   "source": [
    "def rub_to_currency(rub_amount, currency):\n",
    "    check_currency(currency)\n",
    "    if currency == \"USD\":\n",
    "        res = rub_amount / 70.99\n",
    "    if currency == \"CNY\":\n",
    "        res = rub_amount / 70.99\n",
    "        res = res * 6.44\n",
    "    print(res, rub_amount)"
   ],
   "execution_count": 32,
   "outputs": []
  },
  {
   "cell_type": "code",
   "metadata": {
    "colab": {
     "base_uri": "https://localhost:8080/"
    },
    "id": "Yjg-saciqofS",
    "executionInfo": {
     "status": "ok",
     "timestamp": 1634725925583,
     "user_tz": -180,
     "elapsed": 269,
     "user": {
      "displayName": "Евгения Миллер",
      "photoUrl": "https://lh3.googleusercontent.com/a-/AOh14Gj2X0dQicVOw3_uvDLm2AdkkDjMIUubVj8NCWQ6=s64",
      "userId": "01842992490389353651"
     }
    },
    "outputId": "5e5ea18a-c24e-40cf-9c6d-e47ea90ccdca",
    "ExecuteTime": {
     "end_time": "2024-07-02T13:02:51.253954Z",
     "start_time": "2024-07-02T13:02:51.248865Z"
    }
   },
   "source": [
    "rub_to_currency(7200, 'USD')"
   ],
   "execution_count": 30,
   "outputs": [
    {
     "name": "stdout",
     "output_type": "stream",
     "text": [
      "101.4227355965629 7200\n"
     ]
    }
   ]
  },
  {
   "cell_type": "code",
   "metadata": {
    "colab": {
     "base_uri": "https://localhost:8080/"
    },
    "id": "Q7CjbrYeGWdV",
    "executionInfo": {
     "status": "ok",
     "timestamp": 1634725928298,
     "user_tz": -180,
     "elapsed": 9,
     "user": {
      "displayName": "Евгения Миллер",
      "photoUrl": "https://lh3.googleusercontent.com/a-/AOh14Gj2X0dQicVOw3_uvDLm2AdkkDjMIUubVj8NCWQ6=s64",
      "userId": "01842992490389353651"
     }
    },
    "outputId": "06396061-4f2b-4424-a33c-8adf019b2350",
    "ExecuteTime": {
     "end_time": "2024-07-02T13:03:09.496712Z",
     "start_time": "2024-07-02T13:03:09.476553Z"
    }
   },
   "source": [
    "rub_to_currency(7200, 'CNY')"
   ],
   "execution_count": 33,
   "outputs": [
    {
     "name": "stdout",
     "output_type": "stream",
     "text": [
      "653.1624172418651 7200\n"
     ]
    }
   ]
  },
  {
   "cell_type": "code",
   "metadata": {
    "colab": {
     "base_uri": "https://localhost:8080/"
    },
    "id": "YdeDa2mkGfx1",
    "executionInfo": {
     "status": "ok",
     "timestamp": 1634725942227,
     "user_tz": -180,
     "elapsed": 643,
     "user": {
      "displayName": "Евгения Миллер",
      "photoUrl": "https://lh3.googleusercontent.com/a-/AOh14Gj2X0dQicVOw3_uvDLm2AdkkDjMIUubVj8NCWQ6=s64",
      "userId": "01842992490389353651"
     }
    },
    "outputId": "829e06de-c5d0-4b4b-abda-37ec5ba300a0",
    "ExecuteTime": {
     "end_time": "2024-07-02T13:03:13.498387Z",
     "start_time": "2024-07-02T13:03:13.476621Z"
    }
   },
   "source": [
    "rub_to_currency(7200, 'EUR')"
   ],
   "execution_count": 34,
   "outputs": [
    {
     "name": "stdout",
     "output_type": "stream",
     "text": [
      "Расчёт не может быть совершён\n"
     ]
    },
    {
     "ename": "UnboundLocalError",
     "evalue": "local variable 'res' referenced before assignment",
     "output_type": "error",
     "traceback": [
      "\u001B[0;31m---------------------------------------------------------------------------\u001B[0m",
      "\u001B[0;31mUnboundLocalError\u001B[0m                         Traceback (most recent call last)",
      "Cell \u001B[0;32mIn[34], line 1\u001B[0m\n\u001B[0;32m----> 1\u001B[0m \u001B[43mrub_to_currency\u001B[49m\u001B[43m(\u001B[49m\u001B[38;5;241;43m7200\u001B[39;49m\u001B[43m,\u001B[49m\u001B[43m \u001B[49m\u001B[38;5;124;43m'\u001B[39;49m\u001B[38;5;124;43mEUR\u001B[39;49m\u001B[38;5;124;43m'\u001B[39;49m\u001B[43m)\u001B[49m\n",
      "Cell \u001B[0;32mIn[32], line 8\u001B[0m, in \u001B[0;36mrub_to_currency\u001B[0;34m(rub_amount, currency)\u001B[0m\n\u001B[1;32m      6\u001B[0m     res \u001B[38;5;241m=\u001B[39m rub_amount \u001B[38;5;241m/\u001B[39m \u001B[38;5;241m70.99\u001B[39m\n\u001B[1;32m      7\u001B[0m     res \u001B[38;5;241m=\u001B[39m res \u001B[38;5;241m*\u001B[39m \u001B[38;5;241m6.44\u001B[39m\n\u001B[0;32m----> 8\u001B[0m \u001B[38;5;28mprint\u001B[39m(\u001B[43mres\u001B[49m, rub_amount)\n",
      "\u001B[0;31mUnboundLocalError\u001B[0m: local variable 'res' referenced before assignment"
     ]
    }
   ]
  },
  {
   "cell_type": "code",
   "metadata": {
    "colab": {
     "base_uri": "https://localhost:8080/"
    },
    "id": "vdPKCHseAFLZ",
    "executionInfo": {
     "status": "ok",
     "timestamp": 1634725945130,
     "user_tz": -180,
     "elapsed": 932,
     "user": {
      "displayName": "Евгения Миллер",
      "photoUrl": "https://lh3.googleusercontent.com/a-/AOh14Gj2X0dQicVOw3_uvDLm2AdkkDjMIUubVj8NCWQ6=s64",
      "userId": "01842992490389353651"
     }
    },
    "outputId": "bed0869b-53d5-4407-88d5-867fd8fde102",
    "ExecuteTime": {
     "end_time": "2024-07-02T13:03:18.863302Z",
     "start_time": "2024-07-02T13:03:18.838543Z"
    }
   },
   "source": [
    "rub_to_currency(7200)"
   ],
   "execution_count": 35,
   "outputs": [
    {
     "ename": "TypeError",
     "evalue": "rub_to_currency() missing 1 required positional argument: 'currency'",
     "output_type": "error",
     "traceback": [
      "\u001B[0;31m---------------------------------------------------------------------------\u001B[0m",
      "\u001B[0;31mTypeError\u001B[0m                                 Traceback (most recent call last)",
      "Cell \u001B[0;32mIn[35], line 1\u001B[0m\n\u001B[0;32m----> 1\u001B[0m \u001B[43mrub_to_currency\u001B[49m\u001B[43m(\u001B[49m\u001B[38;5;241;43m7200\u001B[39;49m\u001B[43m)\u001B[49m\n",
      "\u001B[0;31mTypeError\u001B[0m: rub_to_currency() missing 1 required positional argument: 'currency'"
     ]
    }
   ]
  },
  {
   "cell_type": "markdown",
   "metadata": {
    "id": "1YIw6X35mR5U"
   },
   "source": [
    "*Задача 2. Обработка анкет*\n",
    "\n",
    "Вам выгрузили список с анкетами потенциальных клиентов, которые заинтересовались покупкой подписки на здоровую еду. Вам нужно обработать эти значения и сказать, какие анкеты подходят (а какие нет) для дальнейшего обзвона колл-центром.\n",
    "\n",
    "Условия, которым должна удовлетворять анкета:\n",
    "* Есть контактная информация: номер телефона.\n",
    "* Контактный номер начинается либо с восьмёрки, либо с семёрки и состоит из десяти символов.\n",
    "* Город проживания: Москва.\n",
    "\n",
    "Пример анкеты выглядит следующим образом: `name=Аня,phone=8800234 , city=москва`. Заметьте, в значениях параметров городов, имён, номеров телефонов могут встретиться лишние пробелы. Попробуйте удалить их с помощью метода `replace`.\n"
   ]
  },
  {
   "cell_type": "code",
   "metadata": {
    "colab": {
     "base_uri": "https://localhost:8080/"
    },
    "id": "t_BdijwS72m2",
    "executionInfo": {
     "status": "ok",
     "timestamp": 1634726098579,
     "user_tz": -180,
     "elapsed": 354,
     "user": {
      "displayName": "Евгения Миллер",
      "photoUrl": "https://lh3.googleusercontent.com/a-/AOh14Gj2X0dQicVOw3_uvDLm2AdkkDjMIUubVj8NCWQ6=s64",
      "userId": "01842992490389353651"
     }
    },
    "outputId": "78a7582a-a68f-4c79-9027-c0e04a974055"
   },
   "source": [
    "# Метод replace заменяет все вхождения строки, указанной первым аргументом, на строку, указанную вторым аргументом\n",
    "\n",
    "# Замена восклицательного знака на пустоту\n",
    "print('!!!aaaa'.replace('!',''))\n",
    "# Замена а на вопросительный знак\n",
    "print('!!!aaaa'.replace('a','?'))\n",
    "# Замена двух восклицательных знаков на вопросительный\n",
    "print('!!!aaaa'.replace('!!','?'))"
   ],
   "execution_count": null,
   "outputs": [
    {
     "output_type": "stream",
     "name": "stdout",
     "text": [
      "aaaa\n",
      "!!!????\n",
      "?!aaaa\n"
     ]
    }
   ]
  },
  {
   "cell_type": "code",
   "metadata": {
    "id": "bQFctEmbrezu",
    "ExecuteTime": {
     "end_time": "2024-07-07T15:13:09.191986Z",
     "start_time": "2024-07-07T15:13:09.187965Z"
    }
   },
   "source": [
    "applications = [\n",
    "         'name=Аня,phone=8800234 ,city=москва',\n",
    "         'name=КОЛЯ,phone=8800900871 ,city=МОСКВА',\n",
    "         'name=Валентина,phone=7950900871 ,city=волгоград',\n",
    "         'name=,phone=7999901871,city=москва',\n",
    "         'name=Иван,phone=7999901871,city=москва',\n",
    "         'name=Инга,phone=,city=москва'\n",
    "\n",
    "] "
   ],
   "execution_count": 4,
   "outputs": []
  },
  {
   "cell_type": "code",
   "metadata": {
    "id": "pLEy-WBWswti",
    "ExecuteTime": {
     "end_time": "2024-07-07T15:15:44.844787Z",
     "start_time": "2024-07-07T15:15:44.820070Z"
    }
   },
   "source": [
    "# функция проверки валидности номера\n",
    "def check_phone(phone):\n",
    "    # Убираем лишние пробелы\n",
    "    phone = phone.strip()\n",
    "    # Проверяем, что номер телефона состоит из 10 цифр и начинается с 8 или 7\n",
    "    return len(phone) == 10 and (phone[0] == '8' or phone[0] == '7')\n",
    "\n",
    "# функция проверки города\n",
    "def check_city(city):\n",
    "    # Убираем лишние пробелы и приводим к нижнему регистру для сравнения\n",
    "    city_correct = city.strip().lower()\n",
    "    return city_correct == 'москва'\n",
    "\n",
    "# функция проверки одной анкеты\n",
    "def check_application(application):\n",
    "    # Убираем лишние пробелы и разделяем по запятым\n",
    "    fields = [field.strip() for field in application.split(',')]\n",
    "    app_dict = {key.strip(): value.strip() for key, value in (field.split('=') for field in fields)}\n",
    "    name = app_dict.get('name', '')\n",
    "    phone = app_dict.get('phone', '')\n",
    "    city = app_dict.get('city', '')\n",
    "    return name, phone, city"
   ],
   "execution_count": 6,
   "outputs": []
  },
  {
   "cell_type": "code",
   "metadata": {
    "id": "Cd5SqD6cset6",
    "ExecuteTime": {
     "end_time": "2024-07-07T15:15:57.839327Z",
     "start_time": "2024-07-07T15:15:57.815883Z"
    }
   },
   "source": [
    "def find_valid_applications(applications):\n",
    "    for application in applications:\n",
    "        name, phone, city = check_application(application)\n",
    "        if not phone:\n",
    "            print(f\"{application} is incorrect, phone is missing\")\n",
    "        elif not check_phone(phone):\n",
    "            print(f\"{application} is incorrect, check phone\")\n",
    "        elif not city:\n",
    "            print(f\"{application} is incorrect, city is missing\")\n",
    "        elif not check_city(city):\n",
    "            print(f\"{application} is incorrect, check city\")\n",
    "        else:\n",
    "            print(f\"{application} is correct\")"
   ],
   "execution_count": 7,
   "outputs": []
  },
  {
   "cell_type": "markdown",
   "metadata": {
    "id": "F8ISsSdO8hL8"
   },
   "source": [
    "Результат функции должен быть напечатан на экран в следующем виде:"
   ]
  },
  {
   "cell_type": "code",
   "execution_count": 8,
   "outputs": [
    {
     "name": "stdout",
     "output_type": "stream",
     "text": [
      "name=Аня,phone=8800234 ,city=москва is incorrect, check phone\n",
      "name=КОЛЯ,phone=8800900871 ,city=МОСКВА is correct\n",
      "name=Валентина,phone=7950900871 ,city=волгоград is incorrect, check city\n",
      "name=,phone=7999901871,city=москва is correct\n",
      "name=Иван,phone=7999901871,city=москва is correct\n",
      "name=Инга,phone=,city=москва is incorrect, phone is missing\n"
     ]
    }
   ],
   "source": [
    "find_valid_applications(applications)"
   ],
   "metadata": {
    "collapsed": false,
    "ExecuteTime": {
     "end_time": "2024-07-07T15:16:07.066767Z",
     "start_time": "2024-07-07T15:16:07.062990Z"
    }
   }
  },
  {
   "cell_type": "markdown",
   "metadata": {
    "id": "c3X805npAhXG"
   },
   "source": [
    "*Задача 3. Факториал*\n",
    "\n",
    "Факториалом числа n называется произведение всех натуральных чисел от 1 до n.\n",
    "\n",
    "\n",
    "\n",
    "> n! = 1 \\* 2 \\*...\\* n\n",
    "\n",
    "> 3! = 1 \\* 2 \\* 3 = 6\n",
    "\n",
    "> 0! = 1\n",
    "\n",
    "Напишите рекурсивную функцию нахождения факториала, где входным параметром является одно единственное число — n. Проверьте, что функция в последующих ячейках отработала верно.\n",
    "\n",
    "\n",
    "\n",
    "\n",
    "\n",
    "\n",
    "\n"
   ]
  },
  {
   "cell_type": "code",
   "metadata": {
    "id": "qD9afK3cC2GY"
   },
   "source": [
    "def factorial():"
   ],
   "execution_count": null,
   "outputs": []
  },
  {
   "cell_type": "code",
   "metadata": {
    "colab": {
     "base_uri": "https://localhost:8080/"
    },
    "id": "w1WpXrpCCta8",
    "executionInfo": {
     "status": "ok",
     "timestamp": 1634726334959,
     "user_tz": -180,
     "elapsed": 4,
     "user": {
      "displayName": "Евгения Миллер",
      "photoUrl": "https://lh3.googleusercontent.com/a-/AOh14Gj2X0dQicVOw3_uvDLm2AdkkDjMIUubVj8NCWQ6=s64",
      "userId": "01842992490389353651"
     }
    },
    "outputId": "a7326cc4-a16d-42f8-b260-5d855a453ad2"
   },
   "source": [
    "factorial(1)"
   ],
   "execution_count": null,
   "outputs": [
    {
     "output_type": "execute_result",
     "data": {
      "text/plain": [
       "1"
      ]
     },
     "metadata": {},
     "execution_count": 12
    }
   ]
  },
  {
   "cell_type": "code",
   "metadata": {
    "colab": {
     "base_uri": "https://localhost:8080/"
    },
    "id": "5ZE9XanICvZJ",
    "executionInfo": {
     "status": "ok",
     "timestamp": 1634726335206,
     "user_tz": -180,
     "elapsed": 2,
     "user": {
      "displayName": "Евгения Миллер",
      "photoUrl": "https://lh3.googleusercontent.com/a-/AOh14Gj2X0dQicVOw3_uvDLm2AdkkDjMIUubVj8NCWQ6=s64",
      "userId": "01842992490389353651"
     }
    },
    "outputId": "c30d3863-f1be-4044-f4cc-e10195527dcf"
   },
   "source": [
    "factorial(0)"
   ],
   "execution_count": null,
   "outputs": [
    {
     "output_type": "execute_result",
     "data": {
      "text/plain": [
       "1"
      ]
     },
     "metadata": {},
     "execution_count": 13
    }
   ]
  },
  {
   "cell_type": "code",
   "metadata": {
    "colab": {
     "base_uri": "https://localhost:8080/"
    },
    "id": "oGZg0EDkCw6H",
    "executionInfo": {
     "status": "ok",
     "timestamp": 1634726335491,
     "user_tz": -180,
     "elapsed": 4,
     "user": {
      "displayName": "Евгения Миллер",
      "photoUrl": "https://lh3.googleusercontent.com/a-/AOh14Gj2X0dQicVOw3_uvDLm2AdkkDjMIUubVj8NCWQ6=s64",
      "userId": "01842992490389353651"
     }
    },
    "outputId": "1b99c010-088c-48f1-d47b-df3a81751de8"
   },
   "source": [
    "factorial(4)"
   ],
   "execution_count": null,
   "outputs": [
    {
     "output_type": "execute_result",
     "data": {
      "text/plain": [
       "24"
      ]
     },
     "metadata": {},
     "execution_count": 14
    }
   ]
  },
  {
   "cell_type": "markdown",
   "metadata": {
    "id": "Bit-nevse14o"
   },
   "source": [
    "*Задача 4. Палиндром*\n",
    "\n",
    "Палиндромом называется такое слово (или фраза), которое слева направо и справа налево читается одинаково. Нужно написать рекурсивную функцию, которая будет возвращать `True`, если слово палиндром, и `False`, если нет.\n",
    "\n",
    "Будем считать, что пустая строка также является палиндромом.\n",
    "\n",
    "Решение должно работать на строках без знаков препинания. Проверьте, что функция в последующих ячейках отработала верно.\n",
    "\n"
   ]
  },
  {
   "cell_type": "code",
   "metadata": {
    "id": "IHePFicik7Ih"
   },
   "source": [
    "def palindrom(text):\n",
    "  # Ваш код здесь"
   ],
   "execution_count": null,
   "outputs": []
  },
  {
   "cell_type": "code",
   "metadata": {
    "colab": {
     "base_uri": "https://localhost:8080/"
    },
    "id": "YAZcDrWRitX6",
    "executionInfo": {
     "status": "ok",
     "timestamp": 1634726417021,
     "user_tz": -180,
     "elapsed": 240,
     "user": {
      "displayName": "Евгения Миллер",
      "photoUrl": "https://lh3.googleusercontent.com/a-/AOh14Gj2X0dQicVOw3_uvDLm2AdkkDjMIUubVj8NCWQ6=s64",
      "userId": "01842992490389353651"
     }
    },
    "outputId": "0424530f-c352-4902-b5aa-332603fefcd6"
   },
   "source": [
    "palindrom('saippuakivikauppias')"
   ],
   "execution_count": null,
   "outputs": [
    {
     "output_type": "execute_result",
     "data": {
      "text/plain": [
       "True"
      ]
     },
     "metadata": {},
     "execution_count": 21
    }
   ]
  },
  {
   "cell_type": "code",
   "metadata": {
    "colab": {
     "base_uri": "https://localhost:8080/"
    },
    "id": "mGGspj3Fivdk",
    "executionInfo": {
     "status": "ok",
     "timestamp": 1634726417360,
     "user_tz": -180,
     "elapsed": 18,
     "user": {
      "displayName": "Евгения Миллер",
      "photoUrl": "https://lh3.googleusercontent.com/a-/AOh14Gj2X0dQicVOw3_uvDLm2AdkkDjMIUubVj8NCWQ6=s64",
      "userId": "01842992490389353651"
     }
    },
    "outputId": "47e70b6d-5b48-46dc-9f9f-75b7ad60b2d1"
   },
   "source": [
    "palindrom('murmur')"
   ],
   "execution_count": null,
   "outputs": [
    {
     "output_type": "execute_result",
     "data": {
      "text/plain": [
       "False"
      ]
     },
     "metadata": {},
     "execution_count": 22
    }
   ]
  },
  {
   "cell_type": "code",
   "metadata": {
    "colab": {
     "base_uri": "https://localhost:8080/"
    },
    "id": "5Nw0wTEPiwYV",
    "executionInfo": {
     "status": "ok",
     "timestamp": 1634726418250,
     "user_tz": -180,
     "elapsed": 6,
     "user": {
      "displayName": "Евгения Миллер",
      "photoUrl": "https://lh3.googleusercontent.com/a-/AOh14Gj2X0dQicVOw3_uvDLm2AdkkDjMIUubVj8NCWQ6=s64",
      "userId": "01842992490389353651"
     }
    },
    "outputId": "7ee7f468-f42e-4417-faf4-a8a5262614f1"
   },
   "source": [
    "palindrom('В резерв')"
   ],
   "execution_count": null,
   "outputs": [
    {
     "output_type": "execute_result",
     "data": {
      "text/plain": [
       "True"
      ]
     },
     "metadata": {},
     "execution_count": 23
    }
   ]
  },
  {
   "cell_type": "code",
   "metadata": {
    "colab": {
     "base_uri": "https://localhost:8080/"
    },
    "id": "Kb9qX0ZDjaWu",
    "executionInfo": {
     "status": "ok",
     "timestamp": 1634726418507,
     "user_tz": -180,
     "elapsed": 3,
     "user": {
      "displayName": "Евгения Миллер",
      "photoUrl": "https://lh3.googleusercontent.com/a-/AOh14Gj2X0dQicVOw3_uvDLm2AdkkDjMIUubVj8NCWQ6=s64",
      "userId": "01842992490389353651"
     }
    },
    "outputId": "3cd76a92-48af-48af-cdaa-038d7c219cf8"
   },
   "source": [
    "palindrom('Sator Arepo tenet opera rotas')"
   ],
   "execution_count": null,
   "outputs": [
    {
     "output_type": "execute_result",
     "data": {
      "text/plain": [
       "True"
      ]
     },
     "metadata": {},
     "execution_count": 24
    }
   ]
  },
  {
   "cell_type": "markdown",
   "metadata": {
    "id": "FzHBlVyLDJCI"
   },
   "source": [
    "\n",
    "\n",
    "---\n",
    "\n",
    "\n",
    "\n",
    "---\n",
    "\n"
   ]
  },
  {
   "cell_type": "markdown",
   "metadata": {
    "id": "urJcsE1JDEjB"
   },
   "source": [
    "**Дополнительные задачи**"
   ]
  },
  {
   "cell_type": "markdown",
   "metadata": {
    "id": "VEgXwB5SH0LL"
   },
   "source": [
    "*Задача 5. Количество цифр в числе*\n",
    "\n",
    "Напишите функцию, которая рассчитывает количество цифр в целом числе, приходящем ей на вход.\n",
    "\n",
    "Рассмотрите два способа решения данной задачи: через строковые переменные и без использования строковых переменных.\n",
    "\n",
    "**Пример:**\n",
    "<br>\n",
    "Input: `n = 1234567` \n",
    "<br>\n",
    "Output: `7`"
   ]
  },
  {
   "cell_type": "code",
   "metadata": {
    "id": "IOxO5n6dwPWy"
   },
   "source": [
    "# Ваш код здесь"
   ],
   "execution_count": null,
   "outputs": []
  },
  {
   "cell_type": "markdown",
   "metadata": {
    "id": "Uf-63ipMwTrs"
   },
   "source": [
    "*Задача 6. Количество отличников и двоечников*\n",
    "\n",
    "Дан список, в каждом элементе которого лежат оценки за финальный экзамен по русскому языку по одному классу. Найдите количество сдавших (оценка >= 3) и не сдавших (оценка < 3) экзамен в каждом классе, а также выведите результативность класса.\n",
    "\n",
    "Результативность класса считается по следующей логике:\n",
    "* если количество оценок 4 и 5 в классе > 95%, результативность отличная;\n",
    "* если количество оценок 4 и 5 в классе < 30%, результативность плохая;\n",
    "* в остальных случаях результативность средняя.\n",
    "\n",
    "Декомпозируйте задачу с помощью функций. Добавьте возможность менять пороги результативности с помощью входных параметров.\n"
   ]
  },
  {
   "cell_type": "code",
   "metadata": {
    "id": "aVeAgJbCyJeP"
   },
   "source": [
    "scores = [\n",
    "          [2, 4, 4, 5, 2, 3, 3, 1, 1],\n",
    "          [3, 4, 2, 3, 3, 1, 5, 2, 4],\n",
    "          [5, 3, 3, 4, 3, 2, 3, 5],\n",
    "          [4, 2, 2, 4, 2],\n",
    "          [4, 3, 3, 3, 3, 3, 3],\n",
    "          [2, 1, 5, 3, 5, 5],\n",
    "          [4, 4, 4, 4, 5, 5],\n",
    "          [4, 1, 3, 4, 1, 1]\n",
    "]"
   ],
   "execution_count": null,
   "outputs": []
  },
  {
   "cell_type": "code",
   "metadata": {
    "colab": {
     "base_uri": "https://localhost:8080/"
    },
    "id": "sTzCQqo336Z-",
    "executionInfo": {
     "status": "ok",
     "timestamp": 1635106550941,
     "user_tz": -180,
     "elapsed": 908,
     "user": {
      "displayName": "Евгения Миллер",
      "photoUrl": "https://lh3.googleusercontent.com/a-/AOh14Gj2X0dQicVOw3_uvDLm2AdkkDjMIUubVj8NCWQ6=s64",
      "userId": "01842992490389353651"
     }
    },
    "outputId": "a19c62c8-456d-43eb-8cdc-b051c9e6a388"
   },
   "source": [
    "# Пример вывода\n",
    "get_info(scores)"
   ],
   "execution_count": null,
   "outputs": [
    {
     "output_type": "stream",
     "name": "stdout",
     "text": [
      "Количество сдавших:5, Количество проваливших:4, Итог по классу:Удовлетворительно\n",
      "Количество сдавших:6, Количество проваливших:3, Итог по классу:Удовлетворительно\n",
      "Количество сдавших:7, Количество проваливших:1, Итог по классу:Удовлетворительно\n",
      "Количество сдавших:2, Количество проваливших:3, Итог по классу:Удовлетворительно\n",
      "Количество сдавших:7, Количество проваливших:0, Итог по классу:Плохо\n",
      "Количество сдавших:4, Количество проваливших:2, Итог по классу:Удовлетворительно\n",
      "Количество сдавших:6, Количество проваливших:0, Итог по классу:Отлично\n",
      "Количество сдавших:3, Количество проваливших:3, Итог по классу:Удовлетворительно\n"
     ]
    }
   ]
  },
  {
   "cell_type": "markdown",
   "metadata": {
    "id": "HYOZFVZ6Dz3t"
   },
   "source": [
    "*Задача 7. Калькулятор*\n",
    "\n",
    "На вход в ваш калькулятор из стандартного ввода приходит выражение, в котором есть только числа и операции сложения и умножения.\n",
    "\n",
    "Нужно написать функцию, которая обрабатывает входную строку и выдаёт результат выражения на выходе.\n",
    "\n",
    "Используйте декомпозицию с помощью функций. Проверьте, что последующие ячейки отработали верно.\n",
    "\n",
    "\n"
   ]
  },
  {
   "cell_type": "code",
   "metadata": {
    "id": "HAdvG7CVBwv3"
   },
   "source": [
    "# Ваш код здесь"
   ],
   "execution_count": null,
   "outputs": []
  },
  {
   "cell_type": "code",
   "metadata": {
    "colab": {
     "base_uri": "https://localhost:8080/"
    },
    "id": "IuEVDkewAXs8",
    "executionInfo": {
     "status": "ok",
     "timestamp": 1634726766991,
     "user_tz": -180,
     "elapsed": 399,
     "user": {
      "displayName": "Евгения Миллер",
      "photoUrl": "https://lh3.googleusercontent.com/a-/AOh14Gj2X0dQicVOw3_uvDLm2AdkkDjMIUubVj8NCWQ6=s64",
      "userId": "01842992490389353651"
     }
    },
    "outputId": "7ac5117f-cbc4-403b-b731-bb49f577e658"
   },
   "source": [
    "expression = '1+2*4*5+7*10*11'\n",
    "extract_expression(expression)"
   ],
   "execution_count": null,
   "outputs": [
    {
     "output_type": "execute_result",
     "data": {
      "text/plain": [
       "811"
      ]
     },
     "metadata": {},
     "execution_count": 33
    }
   ]
  },
  {
   "cell_type": "code",
   "metadata": {
    "colab": {
     "base_uri": "https://localhost:8080/"
    },
    "id": "e2M3A0VqAcZM",
    "executionInfo": {
     "status": "ok",
     "timestamp": 1634726768551,
     "user_tz": -180,
     "elapsed": 268,
     "user": {
      "displayName": "Евгения Миллер",
      "photoUrl": "https://lh3.googleusercontent.com/a-/AOh14Gj2X0dQicVOw3_uvDLm2AdkkDjMIUubVj8NCWQ6=s64",
      "userId": "01842992490389353651"
     }
    },
    "outputId": "7d0bfb16-927e-4049-effb-627a1c189f7d"
   },
   "source": [
    "extract_expression('1+2+3+10')"
   ],
   "execution_count": null,
   "outputs": [
    {
     "output_type": "execute_result",
     "data": {
      "text/plain": [
       "16"
      ]
     },
     "metadata": {},
     "execution_count": 34
    }
   ]
  },
  {
   "cell_type": "code",
   "metadata": {
    "colab": {
     "base_uri": "https://localhost:8080/"
    },
    "id": "KexrzLZdCCa6",
    "executionInfo": {
     "status": "ok",
     "timestamp": 1634726769460,
     "user_tz": -180,
     "elapsed": 4,
     "user": {
      "displayName": "Евгения Миллер",
      "photoUrl": "https://lh3.googleusercontent.com/a-/AOh14Gj2X0dQicVOw3_uvDLm2AdkkDjMIUubVj8NCWQ6=s64",
      "userId": "01842992490389353651"
     }
    },
    "outputId": "7aa32915-3993-428e-e989-ede347b722f0"
   },
   "source": [
    "extract_expression('1*2*10')"
   ],
   "execution_count": null,
   "outputs": [
    {
     "output_type": "execute_result",
     "data": {
      "text/plain": [
       "20"
      ]
     },
     "metadata": {},
     "execution_count": 35
    }
   ]
  },
  {
   "cell_type": "code",
   "metadata": {
    "id": "IcmxuRHwCGzK"
   },
   "source": [],
   "execution_count": null,
   "outputs": []
  }
 ]
}
